{
 "cells": [
  {
   "cell_type": "code",
   "execution_count": 1,
   "metadata": {},
   "outputs": [],
   "source": [
    "import os\n",
    "import pandas as pd\n",
    "import numpy as np\n",
    "import matplotlib.pyplot as plt\n",
    "from sklearn.preprocessing import MinMaxScaler, StandardScaler\n",
    "from sklearn.pipeline import Pipeline\n",
    "from sklearn.linear_model import LogisticRegression\n",
    "from sklearn.ensemble import RandomForestClassifier\n",
    "import xgboost as xgb\n",
    "from sklearn import metrics\n",
    "from sklearn.model_selection import GridSearchCV\n",
    "from imblearn.over_sampling import SMOTE"
   ]
  },
  {
   "cell_type": "markdown",
   "metadata": {},
   "source": [
    "We have generated the cross-validation folds. We now need to choose a model. <br>\n",
    "The criteria are test-set performance and feature stability. <br>\n",
    "We'll use logistic regression as baseline and compare with decision trees (random forest) and their gradient-boosted version (cat-boost)"
   ]
  },
  {
   "cell_type": "markdown",
   "metadata": {},
   "source": [
    "We first need to encode the categorical variables. <br>\n",
    "TBMK, this is required of all models except cat-boost. <br>\n",
    "There was also one column('RISK_RATED_AREA_C') with 5% of values missing in our pre-processed set. All the tree based methods impute these values: LR does not -> we'll impute median for now<br>  "
   ]
  },
  {
   "cell_type": "markdown",
   "metadata": {},
   "source": [
    "# Encode categorical values"
   ]
  },
  {
   "cell_type": "code",
   "execution_count": 2,
   "metadata": {},
   "outputs": [],
   "source": [
    "def is_categorical_variable(values):\n",
    "    is_cat=False\n",
    "    first_valid_index=values.first_valid_index()\n",
    "    if type(values[first_valid_index]) == str:\n",
    "        is_cat=True\n",
    "    return is_cat    \n",
    "\n",
    "def get_categorical_columns(df):\n",
    "    is_cat=[is_categorical_variable(df[col]) for col in df.columns]\n",
    "    categoricals=list(filter(lambda x: x[1], zip(df.columns, is_cat)))\n",
    "    cat_columns=[val[0] for val in categoricals]\n",
    "    return cat_columns\n",
    "\n",
    "def encode_categorical_values(df):\n",
    "    cat_columns=get_categorical_columns(df)\n",
    "    for col in cat_columns:\n",
    "        df[col] = df[col].astype(\"category\").cat.codes +1\n",
    "    return df"
   ]
  },
  {
   "cell_type": "markdown",
   "metadata": {},
   "source": [
    "Impute missing values (hacky)"
   ]
  },
  {
   "cell_type": "code",
   "execution_count": 3,
   "metadata": {},
   "outputs": [],
   "source": [
    "def impute_missing_values(df, col):\n",
    "    median=np.median(df[~df[col].isnull()][col])\n",
    "    df[col]=df[col].fillna(median)\n",
    "    return df"
   ]
  },
  {
   "cell_type": "markdown",
   "metadata": {},
   "source": [
    "Normalize all values (hacky)"
   ]
  },
  {
   "cell_type": "code",
   "execution_count": 4,
   "metadata": {},
   "outputs": [],
   "source": [
    "scaler = MinMaxScaler(feature_range = (0,1))"
   ]
  },
  {
   "cell_type": "markdown",
   "metadata": {},
   "source": [
    "## Get the train-test data and fit the model"
   ]
  },
  {
   "cell_type": "code",
   "execution_count": 5,
   "metadata": {},
   "outputs": [],
   "source": [
    "def get_train_test_sets(df, use_scaler=True):\n",
    "    X_train=df[df['is_test'] == 0].drop(['is_lapsed', 'is_test'], axis=1).copy()\n",
    "    X_test=df[df['is_test'] == 1].drop(['is_lapsed', 'is_test'], axis=1).copy()\n",
    "    y_train=df[df['is_test'] == 0]['is_lapsed'].copy()\n",
    "    y_test=df[df['is_test'] == 1]['is_lapsed'].copy()\n",
    "    feature_cols=X_train.columns\n",
    "    if use_scaler:\n",
    "        scaler.fit(X_train)\n",
    "        X_train = scaler.transform(X_train)\n",
    "        X_test = scaler.transform(X_test)\n",
    "    #print(X_train.shape, y_train.shape, X_test.shape, y_test.shape)\n",
    "    return X_train, y_train, X_test, y_test, feature_cols"
   ]
  },
  {
   "cell_type": "markdown",
   "metadata": {},
   "source": [
    "## Create test-set scores - no parameter tuning    "
   ]
  },
  {
   "cell_type": "code",
   "execution_count": 6,
   "metadata": {},
   "outputs": [],
   "source": [
    "def setup_classifier(X_train, y_train, classifier='lr', balance=False, balance_random_state=2, lrwt=0.225):\n",
    "    \n",
    "    if classifier == 'RF':\n",
    "        if balance:\n",
    "            clf = RandomForestClassifier(n_estimators=100, bootstrap = True, max_features = 'sqrt', \n",
    "                                         class_weight='balanced')\n",
    "        else:    \n",
    "            clf = RandomForestClassifier(n_estimators=100, bootstrap = True, max_features = 'sqrt')\n",
    "    elif classifier == 'XGB':\n",
    "        if balance:\n",
    "            clf = xgb.XGBClassifier(max_depth=10, min_child_weight=1,  n_estimators=100,\\\n",
    "                          n_jobs=-1 , verbose=1,learning_rate=0.16, scale_pos_weight=3, use_label_encoder=False)\n",
    "        else:\n",
    "            clf = xgb.XGBClassifier(max_depth=10, min_child_weight=1,  n_estimators=100,\\\n",
    "                          n_jobs=-1 , verbose=1,learning_rate=0.16, use_label_encoder=False)\n",
    "    else:\n",
    "        if balance:\n",
    "            weights={0:lrwt, 1:1.0}\n",
    "            clf = LogisticRegression(solver = 'liblinear', class_weight=weights)\n",
    "        else:\n",
    "            clf = LogisticRegression(solver = 'liblinear')\n",
    "    \n",
    "    clf.fit(X_train, y_train)\n",
    "        \n",
    "    return clf\n",
    "\n",
    "\n",
    "def get_feature_importance(cl_flag, clf, feature_col_names, is_plot=True, num_features_to_display=5):\n",
    "    \n",
    "    if cl_flag == 'RF':\n",
    "        imp = clf.feature_importances_\n",
    "    elif cl_flag == 'XGB':\n",
    "        imp = clf.feature_importances_\n",
    "    else: #LR\n",
    "        imp = clf.coef_[0]\n",
    "    \n",
    "    if is_plot:\n",
    "        tup=list(zip(imp, feature_col_names, abs(imp)))\n",
    "        sorted_list=sorted(tup, key=lambda x: x[2], reverse=True)\n",
    "        labels=[x[1] for x in sorted_list]\n",
    "        values=[x[0] for x in sorted_list]\n",
    "        return labels, values\n",
    "    else:\n",
    "        tup=list(zip(imp, feature_col_names, abs(imp)))\n",
    "        sorted_list=sorted(tup, key=lambda x: x[2], reverse=True)\n",
    "        features=[x[1] for x in sorted_list][:num_features_to_display]\n",
    "        return features\n",
    "    \n",
    "\n",
    "def get_classifier_scores(clf, X_test, y_test, cl_flag, feature_col_names, num_features=5):\n",
    "    \n",
    "    classes = clf.predict(X_test)\n",
    "    #accuracy = metrics.accuracy_score(classes, y_test)\n",
    "    #balanced_accuracy = metrics.balanced_accuracy_score(classes, y_test)\n",
    "    precision = metrics.precision_score(classes, y_test)\n",
    "    #average_precision = metrics.average_precision_score(classes, y_test)\n",
    "    recall = metrics.recall_score(classes, y_test)\n",
    "    f1_score = metrics.f1_score(classes, y_test)\n",
    "    roc_auc = metrics.roc_auc_score(classes, y_test)\n",
    "    top_features=get_feature_importance(cl_flag, clf, feature_col_names, is_plot=False, \n",
    "                                        num_features_to_display=num_features)\n",
    "    \n",
    "    dic={'AUC': round(roc_auc,2), 'Precision': round(precision,2), 'Recall': round(recall,2), \n",
    "         'F1 score': round(f1_score,2), 'Top n features': top_features}\n",
    "    \n",
    "    return dic\n",
    "\n",
    "\n"
   ]
  },
  {
   "cell_type": "markdown",
   "metadata": {},
   "source": [
    "## Generate performance grids"
   ]
  },
  {
   "cell_type": "code",
   "execution_count": 7,
   "metadata": {},
   "outputs": [],
   "source": [
    "def performance_grid(X_train, y_train, X_test, y_test, feature_col_names, classifier_label, balance_classes):\n",
    "    \n",
    "    clf=setup_classifier(X_train, y_train, classifier_label, balance_classes)\n",
    "    scores= get_classifier_scores(clf, X_test, y_test, classifier_label, feature_col_names)\n",
    "    return scores\n",
    "\n",
    "def generate_model_performance_grid(dfs_in, index_labels, classifier_label='LR', balance_classes=True, \n",
    "                     use_scaler=True, impute_missing=True):\n",
    "    dfs=[encode_categorical_values(df_in) for df_in in dfs_in]\n",
    "    if impute_missing:\n",
    "        dfs=[impute_missing_values(df, 'RISK_RATED_AREA_C') for df in dfs] #hard-coded the only feature w mssg values\n",
    "    perfs=[]\n",
    "    for df in dfs:\n",
    "        X_train, y_train, X_test, y_test, feature_col_names=get_train_test_sets(df, use_scaler)\n",
    "        perf=performance_grid(X_train, y_train, X_test, y_test, feature_col_names, classifier_label, balance_classes)\n",
    "        perfs.append(perf)\n",
    "    df_perf=pd.DataFrame(perfs, index_labels)\n",
    "    return df_perf"
   ]
  },
  {
   "cell_type": "code",
   "execution_count": 8,
   "metadata": {},
   "outputs": [],
   "source": [
    "base_path=os.getcwd()+\"\\\\data\\\\folds\\\\\"\n",
    "file_names=os.listdir(base_path)\n",
    "labels=[x.split(\".\")[0] for x in file_names]\n",
    "file_paths=[base_path+x for x in file_names]\n",
    "dfs_in=[pd.read_csv(path) for path in file_paths]"
   ]
  },
  {
   "cell_type": "code",
   "execution_count": 9,
   "metadata": {},
   "outputs": [],
   "source": [
    "classifier_labels=['LR', 'RF', 'XGB']\n",
    "balance_classes=[True, True, True] \n",
    "use_scaler=[True, False, False]\n",
    "impute_missing=[True, False, False]"
   ]
  },
  {
   "cell_type": "code",
   "execution_count": 10,
   "metadata": {},
   "outputs": [
    {
     "name": "stdout",
     "output_type": "stream",
     "text": [
      "[14:13:01] WARNING: C:/Users/Administrator/workspace/xgboost-win64_release_1.4.0/src/learner.cc:573: \n",
      "Parameters: { \"verbose\" } might not be used.\n",
      "\n",
      "  This may not be accurate due to some parameters are only used in language bindings but\n",
      "  passed down to XGBoost core.  Or some parameters are not used but slip through this\n",
      "  verification. Please open an issue if you find above cases.\n",
      "\n",
      "\n",
      "[14:13:02] WARNING: C:/Users/Administrator/workspace/xgboost-win64_release_1.4.0/src/learner.cc:1095: Starting in XGBoost 1.3.0, the default evaluation metric used with the objective 'binary:logistic' was changed from 'error' to 'logloss'. Explicitly set eval_metric if you'd like to restore the old behavior.\n",
      "[14:13:21] WARNING: C:/Users/Administrator/workspace/xgboost-win64_release_1.4.0/src/learner.cc:573: \n",
      "Parameters: { \"verbose\" } might not be used.\n",
      "\n",
      "  This may not be accurate due to some parameters are only used in language bindings but\n",
      "  passed down to XGBoost core.  Or some parameters are not used but slip through this\n",
      "  verification. Please open an issue if you find above cases.\n",
      "\n",
      "\n",
      "[14:13:21] WARNING: C:/Users/Administrator/workspace/xgboost-win64_release_1.4.0/src/learner.cc:1095: Starting in XGBoost 1.3.0, the default evaluation metric used with the objective 'binary:logistic' was changed from 'error' to 'logloss'. Explicitly set eval_metric if you'd like to restore the old behavior.\n",
      "[14:13:43] WARNING: C:/Users/Administrator/workspace/xgboost-win64_release_1.4.0/src/learner.cc:573: \n",
      "Parameters: { \"verbose\" } might not be used.\n",
      "\n",
      "  This may not be accurate due to some parameters are only used in language bindings but\n",
      "  passed down to XGBoost core.  Or some parameters are not used but slip through this\n",
      "  verification. Please open an issue if you find above cases.\n",
      "\n",
      "\n",
      "[14:13:44] WARNING: C:/Users/Administrator/workspace/xgboost-win64_release_1.4.0/src/learner.cc:1095: Starting in XGBoost 1.3.0, the default evaluation metric used with the objective 'binary:logistic' was changed from 'error' to 'logloss'. Explicitly set eval_metric if you'd like to restore the old behavior.\n",
      "[14:14:18] WARNING: C:/Users/Administrator/workspace/xgboost-win64_release_1.4.0/src/learner.cc:573: \n",
      "Parameters: { \"verbose\" } might not be used.\n",
      "\n",
      "  This may not be accurate due to some parameters are only used in language bindings but\n",
      "  passed down to XGBoost core.  Or some parameters are not used but slip through this\n",
      "  verification. Please open an issue if you find above cases.\n",
      "\n",
      "\n",
      "[14:14:18] WARNING: C:/Users/Administrator/workspace/xgboost-win64_release_1.4.0/src/learner.cc:1095: Starting in XGBoost 1.3.0, the default evaluation metric used with the objective 'binary:logistic' was changed from 'error' to 'logloss'. Explicitly set eval_metric if you'd like to restore the old behavior.\n"
     ]
    }
   ],
   "source": [
    "df_perfs=[generate_model_performance_grid(dfs_in, labels, clf, bal, scale, impute) for clf, bal, scale, impute \n",
    "          in zip(classifier_labels, balance_classes, use_scaler, impute_missing)]          "
   ]
  },
  {
   "cell_type": "code",
   "execution_count": 11,
   "metadata": {},
   "outputs": [],
   "source": [
    "pd.set_option('display.max_colwidth', None)"
   ]
  },
  {
   "cell_type": "markdown",
   "metadata": {},
   "source": [
    "### Logistic Regression"
   ]
  },
  {
   "cell_type": "code",
   "execution_count": 19,
   "metadata": {},
   "outputs": [
    {
     "data": {
      "text/html": [
       "<div>\n",
       "<style scoped>\n",
       "    .dataframe tbody tr th:only-of-type {\n",
       "        vertical-align: middle;\n",
       "    }\n",
       "\n",
       "    .dataframe tbody tr th {\n",
       "        vertical-align: top;\n",
       "    }\n",
       "\n",
       "    .dataframe thead th {\n",
       "        text-align: right;\n",
       "    }\n",
       "</style>\n",
       "<table border=\"1\" class=\"dataframe\">\n",
       "  <thead>\n",
       "    <tr style=\"text-align: right;\">\n",
       "      <th></th>\n",
       "      <th>AUC</th>\n",
       "      <th>Precision</th>\n",
       "      <th>Recall</th>\n",
       "      <th>F1 score</th>\n",
       "      <th>Top n features</th>\n",
       "      <th>model</th>\n",
       "    </tr>\n",
       "  </thead>\n",
       "  <tbody>\n",
       "    <tr>\n",
       "      <th>2008</th>\n",
       "      <td>0.60</td>\n",
       "      <td>0.83</td>\n",
       "      <td>0.33</td>\n",
       "      <td>0.48</td>\n",
       "      <td>[RISK_RATED_AREA_C, LEGAL_ADDON_POST_REN, HP3_ADDON_POST_REN, LEGAL_ADDON_PRE_REN, HP1_ADDON_POST_REN]</td>\n",
       "      <td>LR</td>\n",
       "    </tr>\n",
       "    <tr>\n",
       "      <th>2009</th>\n",
       "      <td>0.60</td>\n",
       "      <td>0.90</td>\n",
       "      <td>0.32</td>\n",
       "      <td>0.48</td>\n",
       "      <td>[RISK_RATED_AREA_C, LEGAL_ADDON_POST_REN, HP3_ADDON_POST_REN, LEGAL_ADDON_PRE_REN, HP1_ADDON_POST_REN]</td>\n",
       "      <td>LR</td>\n",
       "    </tr>\n",
       "    <tr>\n",
       "      <th>2010</th>\n",
       "      <td>0.62</td>\n",
       "      <td>0.93</td>\n",
       "      <td>0.38</td>\n",
       "      <td>0.54</td>\n",
       "      <td>[RISK_RATED_AREA_C, LEGAL_ADDON_POST_REN, HP3_ADDON_POST_REN, LEGAL_ADDON_PRE_REN, HP1_ADDON_POST_REN]</td>\n",
       "      <td>LR</td>\n",
       "    </tr>\n",
       "    <tr>\n",
       "      <th>2011</th>\n",
       "      <td>0.64</td>\n",
       "      <td>0.95</td>\n",
       "      <td>0.41</td>\n",
       "      <td>0.57</td>\n",
       "      <td>[RISK_RATED_AREA_C, LEGAL_ADDON_POST_REN, HP3_ADDON_POST_REN, LEGAL_ADDON_PRE_REN, SPEC_SUM_INSURED]</td>\n",
       "      <td>LR</td>\n",
       "    </tr>\n",
       "  </tbody>\n",
       "</table>\n",
       "</div>"
      ],
      "text/plain": [
       "       AUC  Precision  Recall  F1 score  \\\n",
       "2008  0.60       0.83    0.33      0.48   \n",
       "2009  0.60       0.90    0.32      0.48   \n",
       "2010  0.62       0.93    0.38      0.54   \n",
       "2011  0.64       0.95    0.41      0.57   \n",
       "\n",
       "                                                                                              Top n features  \\\n",
       "2008  [RISK_RATED_AREA_C, LEGAL_ADDON_POST_REN, HP3_ADDON_POST_REN, LEGAL_ADDON_PRE_REN, HP1_ADDON_POST_REN]   \n",
       "2009  [RISK_RATED_AREA_C, LEGAL_ADDON_POST_REN, HP3_ADDON_POST_REN, LEGAL_ADDON_PRE_REN, HP1_ADDON_POST_REN]   \n",
       "2010  [RISK_RATED_AREA_C, LEGAL_ADDON_POST_REN, HP3_ADDON_POST_REN, LEGAL_ADDON_PRE_REN, HP1_ADDON_POST_REN]   \n",
       "2011    [RISK_RATED_AREA_C, LEGAL_ADDON_POST_REN, HP3_ADDON_POST_REN, LEGAL_ADDON_PRE_REN, SPEC_SUM_INSURED]   \n",
       "\n",
       "     model  \n",
       "2008    LR  \n",
       "2009    LR  \n",
       "2010    LR  \n",
       "2011    LR  "
      ]
     },
     "execution_count": 19,
     "metadata": {},
     "output_type": "execute_result"
    }
   ],
   "source": [
    "df_perfs[0]['model']=\"LR\"\n",
    "df_perfs[0]"
   ]
  },
  {
   "cell_type": "markdown",
   "metadata": {},
   "source": [
    "### Random Forest"
   ]
  },
  {
   "cell_type": "code",
   "execution_count": 20,
   "metadata": {},
   "outputs": [
    {
     "data": {
      "text/html": [
       "<div>\n",
       "<style scoped>\n",
       "    .dataframe tbody tr th:only-of-type {\n",
       "        vertical-align: middle;\n",
       "    }\n",
       "\n",
       "    .dataframe tbody tr th {\n",
       "        vertical-align: top;\n",
       "    }\n",
       "\n",
       "    .dataframe thead th {\n",
       "        text-align: right;\n",
       "    }\n",
       "</style>\n",
       "<table border=\"1\" class=\"dataframe\">\n",
       "  <thead>\n",
       "    <tr style=\"text-align: right;\">\n",
       "      <th></th>\n",
       "      <th>AUC</th>\n",
       "      <th>Precision</th>\n",
       "      <th>Recall</th>\n",
       "      <th>F1 score</th>\n",
       "      <th>Top n features</th>\n",
       "      <th>model</th>\n",
       "    </tr>\n",
       "  </thead>\n",
       "  <tbody>\n",
       "    <tr>\n",
       "      <th>2008</th>\n",
       "      <td>0.75</td>\n",
       "      <td>0.22</td>\n",
       "      <td>0.73</td>\n",
       "      <td>0.34</td>\n",
       "      <td>[LAST_ANN_PREM_GROSS, RISK_RATED_AREA_C, age_at_cover_start, cover_start_year, P1_MAR_STATUS]</td>\n",
       "      <td>RF</td>\n",
       "    </tr>\n",
       "    <tr>\n",
       "      <th>2009</th>\n",
       "      <td>0.71</td>\n",
       "      <td>0.18</td>\n",
       "      <td>0.67</td>\n",
       "      <td>0.28</td>\n",
       "      <td>[LAST_ANN_PREM_GROSS, age_at_cover_start, RISK_RATED_AREA_C, cover_start_year, P1_MAR_STATUS]</td>\n",
       "      <td>RF</td>\n",
       "    </tr>\n",
       "    <tr>\n",
       "      <th>2010</th>\n",
       "      <td>0.69</td>\n",
       "      <td>0.16</td>\n",
       "      <td>0.69</td>\n",
       "      <td>0.27</td>\n",
       "      <td>[LAST_ANN_PREM_GROSS, age_at_cover_start, RISK_RATED_AREA_C, cover_start_year, P1_MAR_STATUS]</td>\n",
       "      <td>RF</td>\n",
       "    </tr>\n",
       "    <tr>\n",
       "      <th>2011</th>\n",
       "      <td>0.68</td>\n",
       "      <td>0.14</td>\n",
       "      <td>0.70</td>\n",
       "      <td>0.23</td>\n",
       "      <td>[LAST_ANN_PREM_GROSS, age_at_cover_start, RISK_RATED_AREA_C, cover_start_year, PROP_TYPE]</td>\n",
       "      <td>RF</td>\n",
       "    </tr>\n",
       "  </tbody>\n",
       "</table>\n",
       "</div>"
      ],
      "text/plain": [
       "       AUC  Precision  Recall  F1 score  \\\n",
       "2008  0.75       0.22    0.73      0.34   \n",
       "2009  0.71       0.18    0.67      0.28   \n",
       "2010  0.69       0.16    0.69      0.27   \n",
       "2011  0.68       0.14    0.70      0.23   \n",
       "\n",
       "                                                                                     Top n features  \\\n",
       "2008  [LAST_ANN_PREM_GROSS, RISK_RATED_AREA_C, age_at_cover_start, cover_start_year, P1_MAR_STATUS]   \n",
       "2009  [LAST_ANN_PREM_GROSS, age_at_cover_start, RISK_RATED_AREA_C, cover_start_year, P1_MAR_STATUS]   \n",
       "2010  [LAST_ANN_PREM_GROSS, age_at_cover_start, RISK_RATED_AREA_C, cover_start_year, P1_MAR_STATUS]   \n",
       "2011      [LAST_ANN_PREM_GROSS, age_at_cover_start, RISK_RATED_AREA_C, cover_start_year, PROP_TYPE]   \n",
       "\n",
       "     model  \n",
       "2008    RF  \n",
       "2009    RF  \n",
       "2010    RF  \n",
       "2011    RF  "
      ]
     },
     "execution_count": 20,
     "metadata": {},
     "output_type": "execute_result"
    }
   ],
   "source": [
    "df_perfs[1]['model']=\"RF\"\n",
    "df_perfs[1]"
   ]
  },
  {
   "cell_type": "markdown",
   "metadata": {},
   "source": [
    "# XG Boost"
   ]
  },
  {
   "cell_type": "code",
   "execution_count": 21,
   "metadata": {},
   "outputs": [
    {
     "data": {
      "text/html": [
       "<div>\n",
       "<style scoped>\n",
       "    .dataframe tbody tr th:only-of-type {\n",
       "        vertical-align: middle;\n",
       "    }\n",
       "\n",
       "    .dataframe tbody tr th {\n",
       "        vertical-align: top;\n",
       "    }\n",
       "\n",
       "    .dataframe thead th {\n",
       "        text-align: right;\n",
       "    }\n",
       "</style>\n",
       "<table border=\"1\" class=\"dataframe\">\n",
       "  <thead>\n",
       "    <tr style=\"text-align: right;\">\n",
       "      <th></th>\n",
       "      <th>AUC</th>\n",
       "      <th>Precision</th>\n",
       "      <th>Recall</th>\n",
       "      <th>F1 score</th>\n",
       "      <th>Top n features</th>\n",
       "      <th>model</th>\n",
       "    </tr>\n",
       "  </thead>\n",
       "  <tbody>\n",
       "    <tr>\n",
       "      <th>2008</th>\n",
       "      <td>0.62</td>\n",
       "      <td>0.60</td>\n",
       "      <td>0.42</td>\n",
       "      <td>0.49</td>\n",
       "      <td>[LEGAL_ADDON_PRE_REN, LEGAL_ADDON_POST_REN, P1_MAR_STATUS, PAYMENT_METHOD, HP1_ADDON_POST_REN]</td>\n",
       "      <td>XGB</td>\n",
       "    </tr>\n",
       "    <tr>\n",
       "      <th>2009</th>\n",
       "      <td>0.60</td>\n",
       "      <td>0.63</td>\n",
       "      <td>0.39</td>\n",
       "      <td>0.49</td>\n",
       "      <td>[LEGAL_ADDON_PRE_REN, LEGAL_ADDON_POST_REN, P1_MAR_STATUS, PAYMENT_METHOD, HP1_ADDON_POST_REN]</td>\n",
       "      <td>XGB</td>\n",
       "    </tr>\n",
       "    <tr>\n",
       "      <th>2010</th>\n",
       "      <td>0.62</td>\n",
       "      <td>0.70</td>\n",
       "      <td>0.46</td>\n",
       "      <td>0.55</td>\n",
       "      <td>[LEGAL_ADDON_PRE_REN, LEGAL_ADDON_POST_REN, PAYMENT_METHOD, P1_MAR_STATUS, KEYCARE_ADDON_PRE_REN]</td>\n",
       "      <td>XGB</td>\n",
       "    </tr>\n",
       "    <tr>\n",
       "      <th>2011</th>\n",
       "      <td>0.65</td>\n",
       "      <td>0.76</td>\n",
       "      <td>0.50</td>\n",
       "      <td>0.61</td>\n",
       "      <td>[LEGAL_ADDON_PRE_REN, PAYMENT_METHOD, LEGAL_ADDON_POST_REN, P1_MAR_STATUS, AD_BUILDINGS]</td>\n",
       "      <td>XGB</td>\n",
       "    </tr>\n",
       "  </tbody>\n",
       "</table>\n",
       "</div>"
      ],
      "text/plain": [
       "       AUC  Precision  Recall  F1 score  \\\n",
       "2008  0.62       0.60    0.42      0.49   \n",
       "2009  0.60       0.63    0.39      0.49   \n",
       "2010  0.62       0.70    0.46      0.55   \n",
       "2011  0.65       0.76    0.50      0.61   \n",
       "\n",
       "                                                                                         Top n features  \\\n",
       "2008     [LEGAL_ADDON_PRE_REN, LEGAL_ADDON_POST_REN, P1_MAR_STATUS, PAYMENT_METHOD, HP1_ADDON_POST_REN]   \n",
       "2009     [LEGAL_ADDON_PRE_REN, LEGAL_ADDON_POST_REN, P1_MAR_STATUS, PAYMENT_METHOD, HP1_ADDON_POST_REN]   \n",
       "2010  [LEGAL_ADDON_PRE_REN, LEGAL_ADDON_POST_REN, PAYMENT_METHOD, P1_MAR_STATUS, KEYCARE_ADDON_PRE_REN]   \n",
       "2011           [LEGAL_ADDON_PRE_REN, PAYMENT_METHOD, LEGAL_ADDON_POST_REN, P1_MAR_STATUS, AD_BUILDINGS]   \n",
       "\n",
       "     model  \n",
       "2008   XGB  \n",
       "2009   XGB  \n",
       "2010   XGB  \n",
       "2011   XGB  "
      ]
     },
     "execution_count": 21,
     "metadata": {},
     "output_type": "execute_result"
    }
   ],
   "source": [
    "df_perfs[2]['model']=\"XGB\"\n",
    "df_perfs[2]"
   ]
  },
  {
   "cell_type": "markdown",
   "metadata": {},
   "source": [
    "While RF has higher AUCs (trending down to LR and XGB levels though), Precision is really low suggesting that it is less \n",
    "able to identify potential lapses. <br>\n",
    "LR and XGB have fewer false positives (better able to target potential lapses). <br>\n",
    "Though XGB has a slightly higher F1 score, I would go with LR owing to the simplicity of implementation and stability of top features <br>\n",
    "More work on scaler, missing value imputation could improve performance of LR. <br>\n",
    "By the same token, more work on hyperparameter tuning could improve XGBoost"
   ]
  },
  {
   "cell_type": "markdown",
   "metadata": {},
   "source": [
    "## Visualize results: accuracy metrics"
   ]
  },
  {
   "cell_type": "code",
   "execution_count": 22,
   "metadata": {},
   "outputs": [
    {
     "data": {
      "text/html": [
       "<div>\n",
       "<style scoped>\n",
       "    .dataframe tbody tr th:only-of-type {\n",
       "        vertical-align: middle;\n",
       "    }\n",
       "\n",
       "    .dataframe tbody tr th {\n",
       "        vertical-align: top;\n",
       "    }\n",
       "\n",
       "    .dataframe thead th {\n",
       "        text-align: right;\n",
       "    }\n",
       "</style>\n",
       "<table border=\"1\" class=\"dataframe\">\n",
       "  <thead>\n",
       "    <tr style=\"text-align: right;\">\n",
       "      <th></th>\n",
       "      <th>AUC</th>\n",
       "      <th>Precision</th>\n",
       "      <th>Recall</th>\n",
       "      <th>F1 score</th>\n",
       "      <th>Top n features</th>\n",
       "      <th>model</th>\n",
       "    </tr>\n",
       "  </thead>\n",
       "  <tbody>\n",
       "    <tr>\n",
       "      <th>2011</th>\n",
       "      <td>0.68</td>\n",
       "      <td>0.14</td>\n",
       "      <td>0.70</td>\n",
       "      <td>0.23</td>\n",
       "      <td>[LAST_ANN_PREM_GROSS, age_at_cover_start, RISK_RATED_AREA_C, cover_start_year, PROP_TYPE]</td>\n",
       "      <td>RF</td>\n",
       "    </tr>\n",
       "    <tr>\n",
       "      <th>2008</th>\n",
       "      <td>0.62</td>\n",
       "      <td>0.60</td>\n",
       "      <td>0.42</td>\n",
       "      <td>0.49</td>\n",
       "      <td>[LEGAL_ADDON_PRE_REN, LEGAL_ADDON_POST_REN, P1_MAR_STATUS, PAYMENT_METHOD, HP1_ADDON_POST_REN]</td>\n",
       "      <td>XGB</td>\n",
       "    </tr>\n",
       "    <tr>\n",
       "      <th>2009</th>\n",
       "      <td>0.60</td>\n",
       "      <td>0.63</td>\n",
       "      <td>0.39</td>\n",
       "      <td>0.49</td>\n",
       "      <td>[LEGAL_ADDON_PRE_REN, LEGAL_ADDON_POST_REN, P1_MAR_STATUS, PAYMENT_METHOD, HP1_ADDON_POST_REN]</td>\n",
       "      <td>XGB</td>\n",
       "    </tr>\n",
       "    <tr>\n",
       "      <th>2010</th>\n",
       "      <td>0.62</td>\n",
       "      <td>0.70</td>\n",
       "      <td>0.46</td>\n",
       "      <td>0.55</td>\n",
       "      <td>[LEGAL_ADDON_PRE_REN, LEGAL_ADDON_POST_REN, PAYMENT_METHOD, P1_MAR_STATUS, KEYCARE_ADDON_PRE_REN]</td>\n",
       "      <td>XGB</td>\n",
       "    </tr>\n",
       "    <tr>\n",
       "      <th>2011</th>\n",
       "      <td>0.65</td>\n",
       "      <td>0.76</td>\n",
       "      <td>0.50</td>\n",
       "      <td>0.61</td>\n",
       "      <td>[LEGAL_ADDON_PRE_REN, PAYMENT_METHOD, LEGAL_ADDON_POST_REN, P1_MAR_STATUS, AD_BUILDINGS]</td>\n",
       "      <td>XGB</td>\n",
       "    </tr>\n",
       "  </tbody>\n",
       "</table>\n",
       "</div>"
      ],
      "text/plain": [
       "       AUC  Precision  Recall  F1 score  \\\n",
       "2011  0.68       0.14    0.70      0.23   \n",
       "2008  0.62       0.60    0.42      0.49   \n",
       "2009  0.60       0.63    0.39      0.49   \n",
       "2010  0.62       0.70    0.46      0.55   \n",
       "2011  0.65       0.76    0.50      0.61   \n",
       "\n",
       "                                                                                         Top n features  \\\n",
       "2011          [LAST_ANN_PREM_GROSS, age_at_cover_start, RISK_RATED_AREA_C, cover_start_year, PROP_TYPE]   \n",
       "2008     [LEGAL_ADDON_PRE_REN, LEGAL_ADDON_POST_REN, P1_MAR_STATUS, PAYMENT_METHOD, HP1_ADDON_POST_REN]   \n",
       "2009     [LEGAL_ADDON_PRE_REN, LEGAL_ADDON_POST_REN, P1_MAR_STATUS, PAYMENT_METHOD, HP1_ADDON_POST_REN]   \n",
       "2010  [LEGAL_ADDON_PRE_REN, LEGAL_ADDON_POST_REN, PAYMENT_METHOD, P1_MAR_STATUS, KEYCARE_ADDON_PRE_REN]   \n",
       "2011           [LEGAL_ADDON_PRE_REN, PAYMENT_METHOD, LEGAL_ADDON_POST_REN, P1_MAR_STATUS, AD_BUILDINGS]   \n",
       "\n",
       "     model  \n",
       "2011    RF  \n",
       "2008   XGB  \n",
       "2009   XGB  \n",
       "2010   XGB  \n",
       "2011   XGB  "
      ]
     },
     "execution_count": 22,
     "metadata": {},
     "output_type": "execute_result"
    }
   ],
   "source": [
    "df_all_perfs=pd.concat(df_perfs)\n",
    "df_all_perfs.tail()"
   ]
  },
  {
   "cell_type": "code",
   "execution_count": 38,
   "metadata": {},
   "outputs": [],
   "source": [
    "def get_grouped_bar_chart(metric):\n",
    "    \n",
    "    #create the metric data frame\n",
    "    cols2choose=['model', metric]\n",
    "    df_metric=df_all_perfs[cols2choose].copy()\n",
    "    \n",
    "    #create the pivot table\n",
    "    df_pivot = pd.pivot_table(df_metric, values=metric, index=df_metric.index, columns=\"model\")\n",
    "    \n",
    "    #plot the bar chart\n",
    "    ax = df_pivot.plot(kind=\"bar\")\n",
    "    \n",
    "    # Get a Matplotlib figure from the axes object for formatting purposes\n",
    "    fig = ax.get_figure()\n",
    "    \n",
    "    # Change the plot dimensions (width, height)\n",
    "    fig.set_size_inches(7, 6)\n",
    "    \n",
    "    # Change the axes labels\n",
    "    ax.set_xlabel(\"Years\")\n",
    "    ax.set_ylabel(metric)\n",
    "    \n",
    "    fig.suptitle(metric, fontsize=16)"
   ]
  },
  {
   "cell_type": "code",
   "execution_count": 39,
   "metadata": {},
   "outputs": [
    {
     "data": {
      "text/plain": [
       "[None, None, None, None]"
      ]
     },
     "execution_count": 39,
     "metadata": {},
     "output_type": "execute_result"
    },
    {
     "data": {
      "image/png": "[encoded data removed]",
      "text/plain": [
       "<Figure size 504x432 with 1 Axes>"
      ]
     },
     "metadata": {
      "needs_background": "light"
     },
     "output_type": "display_data"
    },
    {
     "data": {
      "image/png": "[encoded data removed]",
      "text/plain": [
       "<Figure size 504x432 with 1 Axes>"
      ]
     },
     "metadata": {
      "needs_background": "light"
     },
     "output_type": "display_data"
    },
    {
     "data": {
      "image/png": "[encoded data removed]",
      "text/plain": [
       "<Figure size 504x432 with 1 Axes>"
      ]
     },
     "metadata": {
      "needs_background": "light"
     },
     "output_type": "display_data"
    },
    {
     "data": {
      "image/png": "[encoded data removed]",
      "text/plain": [
       "<Figure size 504x432 with 1 Axes>"
      ]
     },
     "metadata": {
      "needs_background": "light"
     },
     "output_type": "display_data"
    }
   ],
   "source": [
    "metrics=['AUC', 'Precision', 'Recall', 'F1 score']\n",
    "charts=[get_grouped_bar_chart(metric) for metric in metrics]\n",
    "charts"
   ]
  },
  {
   "cell_type": "code",
   "execution_count": null,
   "metadata": {},
   "outputs": [],
   "source": []
  }
 ],
 "metadata": {
  "kernelspec": {
   "display_name": "Python 3",
   "language": "python",
   "name": "python3"
  },
  "language_info": {
   "codemirror_mode": {
    "name": "ipython",
    "version": 3
   },
   "file_extension": ".py",
   "mimetype": "text/x-python",
   "name": "python",
   "nbconvert_exporter": "python",
   "pygments_lexer": "ipython3",
   "version": "3.8.5"
  }
 },
 "nbformat": 4,
 "nbformat_minor": 4
}
