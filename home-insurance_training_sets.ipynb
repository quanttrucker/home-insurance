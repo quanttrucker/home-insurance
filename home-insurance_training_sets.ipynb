{
 "cells": [
  {
   "cell_type": "code",
   "execution_count": 1,
   "metadata": {},
   "outputs": [],
   "source": [
    "import os\n",
    "import pandas as pd\n",
    "import numpy as np\n",
    "import matplotlib.pyplot as plt\n",
    "from datetime import datetime as dt, timedelta\n",
    "from time import time"
   ]
  },
  {
   "cell_type": "markdown",
   "metadata": {},
   "source": [
    "As mentioned in EDA, we'll be testing change in lapse behaviour pre- and post- GFC <br>\n",
    "Instead of performing x-validation for the entire training set, we will look at model performance and feature-stability over the following contiguous periods: <br>\n",
    "1. (-2007, 2008): Pre-crisis period -> we're already seeing lapse rates creeping up <br>\n",
    "2. (-2008, 2009): Training period is pre-crisis, Test period is post-crisis -> big bump in policies written in test period <br>\n",
    "3. (-2009, 2010): Training period includes post-crisis -> another big bump in policies written in test period, bump in lapse-rate as well <br>\n",
    "4. (-2010, 2011): Sharp drop in policies written in test period, further rise in lapse-rate <br>\n",
    "(-,): (train_period, test_period). Test-window is always 1y ahead. Train-window end-date slides forward to include previous test-window. Train-window start date is fixed at origin. <br><br>\n",
    "In reality, test-windows should be more granular: quarterly/monthly  "
   ]
  },
  {
   "cell_type": "markdown",
   "metadata": {},
   "source": [
    "### Generate the training sets"
   ]
  },
  {
   "cell_type": "code",
   "execution_count": 2,
   "metadata": {},
   "outputs": [],
   "source": [
    "path=os.getcwd()+\"\\\\data\\\\home_insurance_training.csv\"\n",
    "df_training=pd.read_csv(path)"
   ]
  },
  {
   "cell_type": "code",
   "execution_count": 3,
   "metadata": {},
   "outputs": [],
   "source": [
    "df_x_validation_sets=[df_training[df_training['cover_start_year'] <= x].copy() for x in [2008, 2009, 2010, 2011]]"
   ]
  },
  {
   "cell_type": "markdown",
   "metadata": {},
   "source": [
    "Label training and validation sets"
   ]
  },
  {
   "cell_type": "code",
   "execution_count": 4,
   "metadata": {},
   "outputs": [],
   "source": [
    "def get_train_set_labels(df):\n",
    "    year_values=df['cover_start_year'].copy()\n",
    "    last_year=year_values.iloc[-1]\n",
    "    df['is_test']=[1 if x == last_year else 0 for x in year_values]\n",
    "    return df"
   ]
  },
  {
   "cell_type": "code",
   "execution_count": 5,
   "metadata": {},
   "outputs": [],
   "source": [
    "df_labelled_sets=[get_train_set_labels(df) for df in df_x_validation_sets]"
   ]
  },
  {
   "cell_type": "markdown",
   "metadata": {},
   "source": [
    "Get the number of records in each fold, the train-test splits and the train-set lapse ratios"
   ]
  },
  {
   "cell_type": "code",
   "execution_count": 6,
   "metadata": {},
   "outputs": [],
   "source": [
    "def get_lapse_ratio(values):\n",
    "    list_vals=list(values)\n",
    "    lapse_ratio=round(sum(list_vals)/len(list_vals),2)\n",
    "    return lapse_ratio"
   ]
  },
  {
   "cell_type": "code",
   "execution_count": 7,
   "metadata": {},
   "outputs": [],
   "source": [
    "train_records=[len(x[x['is_test'] == 0]) for x in df_labelled_sets]\n",
    "test_records=[len(x[x['is_test'] == 1]) for x in df_labelled_sets]\n",
    "lapse_ratios=[get_lapse_ratio(x[x['is_test'] == 0]['is_lapsed']) for x in df_labelled_sets]\n",
    "test_set_label=[x[x['is_test'] == 1]['cover_start_year'].iloc[0] for x in df_labelled_sets]"
   ]
  },
  {
   "cell_type": "code",
   "execution_count": 8,
   "metadata": {},
   "outputs": [
    {
     "data": {
      "text/html": [
       "<div>\n",
       "<style scoped>\n",
       "    .dataframe tbody tr th:only-of-type {\n",
       "        vertical-align: middle;\n",
       "    }\n",
       "\n",
       "    .dataframe tbody tr th {\n",
       "        vertical-align: top;\n",
       "    }\n",
       "\n",
       "    .dataframe thead th {\n",
       "        text-align: right;\n",
       "    }\n",
       "</style>\n",
       "<table border=\"1\" class=\"dataframe\">\n",
       "  <thead>\n",
       "    <tr style=\"text-align: right;\">\n",
       "      <th></th>\n",
       "      <th>test_set_label</th>\n",
       "      <th>train_records</th>\n",
       "      <th>test_records</th>\n",
       "      <th>train_set_lapse_ratios</th>\n",
       "      <th>train_test_split</th>\n",
       "    </tr>\n",
       "  </thead>\n",
       "  <tbody>\n",
       "    <tr>\n",
       "      <th>0</th>\n",
       "      <td>2008</td>\n",
       "      <td>83375</td>\n",
       "      <td>11502</td>\n",
       "      <td>0.21</td>\n",
       "      <td>0.88</td>\n",
       "    </tr>\n",
       "    <tr>\n",
       "      <th>1</th>\n",
       "      <td>2009</td>\n",
       "      <td>94877</td>\n",
       "      <td>21850</td>\n",
       "      <td>0.22</td>\n",
       "      <td>0.81</td>\n",
       "    </tr>\n",
       "    <tr>\n",
       "      <th>2</th>\n",
       "      <td>2010</td>\n",
       "      <td>116727</td>\n",
       "      <td>40877</td>\n",
       "      <td>0.23</td>\n",
       "      <td>0.74</td>\n",
       "    </tr>\n",
       "    <tr>\n",
       "      <th>3</th>\n",
       "      <td>2011</td>\n",
       "      <td>157604</td>\n",
       "      <td>31415</td>\n",
       "      <td>0.26</td>\n",
       "      <td>0.83</td>\n",
       "    </tr>\n",
       "  </tbody>\n",
       "</table>\n",
       "</div>"
      ],
      "text/plain": [
       "   test_set_label  train_records  test_records  train_set_lapse_ratios  \\\n",
       "0            2008          83375         11502                    0.21   \n",
       "1            2009          94877         21850                    0.22   \n",
       "2            2010         116727         40877                    0.23   \n",
       "3            2011         157604         31415                    0.26   \n",
       "\n",
       "   train_test_split  \n",
       "0              0.88  \n",
       "1              0.81  \n",
       "2              0.74  \n",
       "3              0.83  "
      ]
     },
     "execution_count": 8,
     "metadata": {},
     "output_type": "execute_result"
    }
   ],
   "source": [
    "df_num_records=pd.DataFrame({'test_set_label': test_set_label, 'train_records': train_records, 'test_records': test_records, 'train_set_lapse_ratios': lapse_ratios})\n",
    "df_num_records['train_test_split']=[round(x/(x+y),2) for x,y in zip(df_num_records['train_records'], df_num_records['test_records']) ]\n",
    "df_num_records"
   ]
  },
  {
   "cell_type": "markdown",
   "metadata": {},
   "source": [
    "Train-set lapse ratios are small enough for the positive set (lapsed policies) to be considered 'unbalanced'. We will check both cases. "
   ]
  },
  {
   "cell_type": "markdown",
   "metadata": {},
   "source": [
    "#### Write out the training sets"
   ]
  },
  {
   "cell_type": "code",
   "execution_count": 9,
   "metadata": {},
   "outputs": [
    {
     "data": {
      "text/plain": [
       "[None, None, None, None]"
      ]
     },
     "execution_count": 9,
     "metadata": {},
     "output_type": "execute_result"
    }
   ],
   "source": [
    "base_path=os.getcwd()+\"\\\\data\\\\folds\\\\\"\n",
    "[df.set_index('is_lapsed').to_csv(base_path+str(label)+\".csv\") for df,label in zip(df_labelled_sets, df_num_records['test_set_label'])]"
   ]
  },
  {
   "cell_type": "code",
   "execution_count": null,
   "metadata": {},
   "outputs": [],
   "source": []
  }
 ],
 "metadata": {
  "kernelspec": {
   "display_name": "Python 3",
   "language": "python",
   "name": "python3"
  },
  "language_info": {
   "codemirror_mode": {
    "name": "ipython",
    "version": 3
   },
   "file_extension": ".py",
   "mimetype": "text/x-python",
   "name": "python",
   "nbconvert_exporter": "python",
   "pygments_lexer": "ipython3",
   "version": "3.8.5"
  }
 },
 "nbformat": 4,
 "nbformat_minor": 4
}
