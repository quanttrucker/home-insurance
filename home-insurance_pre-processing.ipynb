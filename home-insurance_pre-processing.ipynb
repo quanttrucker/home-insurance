{
 "cells": [
  {
   "cell_type": "code",
   "execution_count": 1,
   "metadata": {},
   "outputs": [],
   "source": [
    "import os\n",
    "import pandas as pd\n",
    "import numpy as np\n",
    "import matplotlib.pyplot as plt"
   ]
  },
  {
   "cell_type": "markdown",
   "metadata": {},
   "source": [
    "### Read in the data and take a quick peek"
   ]
  },
  {
   "cell_type": "code",
   "execution_count": 2,
   "metadata": {},
   "outputs": [
    {
     "name": "stdout",
     "output_type": "stream",
     "text": [
      "<class 'pandas.core.frame.DataFrame'>\n",
      "RangeIndex: 256136 entries, 0 to 256135\n",
      "Data columns (total 66 columns):\n",
      " #   Column                  Non-Null Count   Dtype  \n",
      "---  ------                  --------------   -----  \n",
      " 0   QUOTE_DATE              129524 non-null  object \n",
      " 1   COVER_START             189021 non-null  object \n",
      " 2   CLAIM3YEARS             190039 non-null  object \n",
      " 3   P1_EMP_STATUS           189021 non-null  object \n",
      " 4   P1_PT_EMP_STATUS        1782 non-null    object \n",
      " 5   BUS_USE                 189021 non-null  object \n",
      " 6   CLERICAL                2944 non-null    object \n",
      " 7   AD_BUILDINGS            189021 non-null  object \n",
      " 8   RISK_RATED_AREA_B       140876 non-null  float64\n",
      " 9   SUM_INSURED_BUILDINGS   189021 non-null  float64\n",
      " 10  NCD_GRANTED_YEARS_B     189021 non-null  float64\n",
      " 11  AD_CONTENTS             189021 non-null  object \n",
      " 12  RISK_RATED_AREA_C       180290 non-null  float64\n",
      " 13  SUM_INSURED_CONTENTS    189021 non-null  float64\n",
      " 14  NCD_GRANTED_YEARS_C     189021 non-null  float64\n",
      " 15  CONTENTS_COVER          189021 non-null  object \n",
      " 16  BUILDINGS_COVER         189021 non-null  object \n",
      " 17  SPEC_SUM_INSURED        189021 non-null  float64\n",
      " 18  SPEC_ITEM_PREM          189021 non-null  float64\n",
      " 19  UNSPEC_HRP_PREM         189021 non-null  float64\n",
      " 20  P1_DOB                  189021 non-null  object \n",
      " 21  P1_MAR_STATUS           189021 non-null  object \n",
      " 22  P1_POLICY_REFUSED       189021 non-null  object \n",
      " 23  P1_SEX                  189021 non-null  object \n",
      " 24  APPR_ALARM              189021 non-null  object \n",
      " 25  APPR_LOCKS              189021 non-null  object \n",
      " 26  BEDROOMS                189021 non-null  float64\n",
      " 27  ROOF_CONSTRUCTION       189021 non-null  float64\n",
      " 28  WALL_CONSTRUCTION       189021 non-null  float64\n",
      " 29  FLOODING                189021 non-null  object \n",
      " 30  LISTED                  189021 non-null  float64\n",
      " 31  MAX_DAYS_UNOCC          189021 non-null  float64\n",
      " 32  NEIGH_WATCH             189021 non-null  object \n",
      " 33  OCC_STATUS              189021 non-null  object \n",
      " 34  OWNERSHIP_TYPE          189021 non-null  float64\n",
      " 35  PAYING_GUESTS           189021 non-null  float64\n",
      " 36  PROP_TYPE               189021 non-null  float64\n",
      " 37  SAFE_INSTALLED          189021 non-null  object \n",
      " 38  SEC_DISC_REQ            189021 non-null  object \n",
      " 39  SUBSIDENCE              189021 non-null  object \n",
      " 40  YEARBUILT               189021 non-null  float64\n",
      " 41  CAMPAIGN_DESC           0 non-null       float64\n",
      " 42  PAYMENT_METHOD          189021 non-null  object \n",
      " 43  PAYMENT_FREQUENCY       80554 non-null   float64\n",
      " 44  LEGAL_ADDON_PRE_REN     189021 non-null  object \n",
      " 45  LEGAL_ADDON_POST_REN    189021 non-null  object \n",
      " 46  HOME_EM_ADDON_PRE_REN   189021 non-null  object \n",
      " 47  HOME_EM_ADDON_POST_REN  189021 non-null  object \n",
      " 48  GARDEN_ADDON_PRE_REN    189021 non-null  object \n",
      " 49  GARDEN_ADDON_POST_REN   189021 non-null  object \n",
      " 50  KEYCARE_ADDON_PRE_REN   189021 non-null  object \n",
      " 51  KEYCARE_ADDON_POST_REN  189021 non-null  object \n",
      " 52  HP1_ADDON_PRE_REN       189021 non-null  object \n",
      " 53  HP1_ADDON_POST_REN      189021 non-null  object \n",
      " 54  HP2_ADDON_PRE_REN       189021 non-null  object \n",
      " 55  HP2_ADDON_POST_REN      189021 non-null  object \n",
      " 56  HP3_ADDON_PRE_REN       189021 non-null  object \n",
      " 57  HP3_ADDON_POST_REN      189021 non-null  object \n",
      " 58  MTA_FLAG                190039 non-null  object \n",
      " 59  MTA_FAP                 55720 non-null   float64\n",
      " 60  MTA_APRP                55720 non-null   float64\n",
      " 61  MTA_DATE                26575 non-null   object \n",
      " 62  LAST_ANN_PREM_GROSS     190039 non-null  float64\n",
      " 63  POL_STATUS              189021 non-null  object \n",
      " 64  i                       256136 non-null  int64  \n",
      " 65  Police                  256136 non-null  object \n",
      "dtypes: float64(23), int64(1), object(42)\n",
      "memory usage: 129.0+ MB\n"
     ]
    }
   ],
   "source": [
    "path=os.getcwd()+\"\\\\data\\\\home_insurance.csv\"\n",
    "df_raw=pd.read_csv(path)\n",
    "df_raw.info()"
   ]
  },
  {
   "cell_type": "markdown",
   "metadata": {},
   "source": [
    "### Investigate the target variable: there are several policies with no status"
   ]
  },
  {
   "cell_type": "code",
   "execution_count": 3,
   "metadata": {},
   "outputs": [
    {
     "data": {
      "text/plain": [
       "0.26202876596807945"
      ]
     },
     "execution_count": 3,
     "metadata": {},
     "output_type": "execute_result"
    }
   ],
   "source": [
    "missing_status=len(df_raw[df_raw['POL_STATUS'].isnull()])/len(df_raw)\n",
    "missing_status"
   ]
  },
  {
   "cell_type": "markdown",
   "metadata": {},
   "source": [
    "We remove missing_status policies from the dataset: they cannot be used to train the model"
   ]
  },
  {
   "cell_type": "code",
   "execution_count": 4,
   "metadata": {},
   "outputs": [
    {
     "data": {
      "text/plain": [
       "189021"
      ]
     },
     "execution_count": 4,
     "metadata": {},
     "output_type": "execute_result"
    }
   ],
   "source": [
    "df_tgt_updated=df_raw[~df_raw['POL_STATUS'].isnull()].copy()\n",
    "len(df_tgt_updated)"
   ]
  },
  {
   "cell_type": "markdown",
   "metadata": {},
   "source": [
    "We want to predict lapsed policies, so divide the target space into lapsed and non-lapsed"
   ]
  },
  {
   "cell_type": "code",
   "execution_count": 5,
   "metadata": {},
   "outputs": [
    {
     "data": {
      "text/plain": [
       "Live         132160\n",
       "Lapsed        52534\n",
       "Cancelled      4311\n",
       "Unknown          16\n",
       "Name: POL_STATUS, dtype: int64"
      ]
     },
     "execution_count": 5,
     "metadata": {},
     "output_type": "execute_result"
    }
   ],
   "source": [
    "df_tgt_updated['POL_STATUS'].value_counts()"
   ]
  },
  {
   "cell_type": "code",
   "execution_count": 6,
   "metadata": {},
   "outputs": [],
   "source": [
    "df_tgt_updated['is_lapsed']=[1 if x == 'Lapsed' else 0 for x in df_tgt_updated['POL_STATUS']]\n",
    "df_tgt_updated.drop('POL_STATUS', axis=1, inplace=True)"
   ]
  },
  {
   "cell_type": "code",
   "execution_count": 7,
   "metadata": {},
   "outputs": [],
   "source": [
    "df_lapse_counts = df_tgt_updated.groupby('is_lapsed')['Police'].count().reset_index().rename(columns={'is_lapsed': 'lapse_index', 'Police': 'count'})\n",
    "values=list(df_lapse_counts['count'].copy())\n",
    "labels=['not_lapsed', 'lapsed']"
   ]
  },
  {
   "cell_type": "markdown",
   "metadata": {},
   "source": [
    "Check the positive-negative ratio: are we dealing with unbalanced data?"
   ]
  },
  {
   "cell_type": "code",
   "execution_count": 8,
   "metadata": {},
   "outputs": [
    {
     "data": {
      "image/png": "[encoded data removed]",
      "text/plain": [
       "<Figure size 432x288 with 1 Axes>"
      ]
     },
     "metadata": {},
     "output_type": "display_data"
    }
   ],
   "source": [
    "plt.figure()\n",
    "plt.pie(values, labels=labels, autopct='%.2f')\n",
    "plt.show()"
   ]
  },
  {
   "cell_type": "markdown",
   "metadata": {},
   "source": [
    "### Turning to feature columns, remove those with > 10% missing values"
   ]
  },
  {
   "cell_type": "code",
   "execution_count": 9,
   "metadata": {},
   "outputs": [
    {
     "data": {
      "text/plain": [
       "170118"
      ]
     },
     "execution_count": 9,
     "metadata": {},
     "output_type": "execute_result"
    }
   ],
   "source": [
    "min_values_count=int(0.9 * len(df_tgt_updated))\n",
    "min_values_count"
   ]
  },
  {
   "cell_type": "code",
   "execution_count": 10,
   "metadata": {},
   "outputs": [
    {
     "data": {
      "text/plain": [
       "[('QUOTE_DATE', 79144),\n",
       " ('P1_PT_EMP_STATUS', 1782),\n",
       " ('CLERICAL', 2944),\n",
       " ('RISK_RATED_AREA_B', 140876),\n",
       " ('CAMPAIGN_DESC', 0),\n",
       " ('PAYMENT_FREQUENCY', 80554),\n",
       " ('MTA_FAP', 55380),\n",
       " ('MTA_APRP', 55380),\n",
       " ('MTA_DATE', 26430)]"
      ]
     },
     "execution_count": 10,
     "metadata": {},
     "output_type": "execute_result"
    }
   ],
   "source": [
    "values_count=[df_tgt_updated[col].count() for col in df_tgt_updated.columns]\n",
    "list_cols_with_obs_count=list(filter(lambda x: x[1] < min_values_count, zip(df_tgt_updated.columns, values_count)))\n",
    "list_cols_with_obs_count"
   ]
  },
  {
   "cell_type": "code",
   "execution_count": 11,
   "metadata": {},
   "outputs": [
    {
     "data": {
      "text/plain": [
       "['QUOTE_DATE',\n",
       " 'P1_PT_EMP_STATUS',\n",
       " 'CLERICAL',\n",
       " 'RISK_RATED_AREA_B',\n",
       " 'CAMPAIGN_DESC',\n",
       " 'PAYMENT_FREQUENCY',\n",
       " 'MTA_FAP',\n",
       " 'MTA_APRP',\n",
       " 'MTA_DATE']"
      ]
     },
     "execution_count": 11,
     "metadata": {},
     "output_type": "execute_result"
    }
   ],
   "source": [
    "cols2drop=[val[0] for val in list_cols_with_obs_count]\n",
    "cols2drop"
   ]
  },
  {
   "cell_type": "code",
   "execution_count": 12,
   "metadata": {},
   "outputs": [],
   "source": [
    "df_updated=df_tgt_updated.drop(cols2drop, axis=1).copy()"
   ]
  },
  {
   "cell_type": "markdown",
   "metadata": {},
   "source": [
    "#### List columns with missing values"
   ]
  },
  {
   "cell_type": "code",
   "execution_count": 13,
   "metadata": {},
   "outputs": [
    {
     "data": {
      "text/plain": [
       "[('RISK_RATED_AREA_C', 180290)]"
      ]
     },
     "execution_count": 13,
     "metadata": {},
     "output_type": "execute_result"
    }
   ],
   "source": [
    "values_count_updated=[df_updated[col].count() for col in df_updated.columns]\n",
    "list_cols_with_missing_values=list(filter(lambda x: x[1] < len(df_updated), zip(df_updated.columns, values_count_updated)))\n",
    "list_cols_with_missing_values"
   ]
  },
  {
   "cell_type": "markdown",
   "metadata": {},
   "source": [
    "Peek into the missing values"
   ]
  },
  {
   "cell_type": "code",
   "execution_count": 14,
   "metadata": {},
   "outputs": [
    {
     "data": {
      "text/plain": [
       "5.0"
      ]
     },
     "execution_count": 14,
     "metadata": {},
     "output_type": "execute_result"
    }
   ],
   "source": [
    "pct_missing=1.0 - list_cols_with_missing_values[0][1]/len(df_updated)\n",
    "round(pct_missing*100,0)"
   ]
  },
  {
   "cell_type": "code",
   "execution_count": 15,
   "metadata": {},
   "outputs": [
    {
     "data": {
      "text/plain": [
       "49"
      ]
     },
     "execution_count": 15,
     "metadata": {},
     "output_type": "execute_result"
    }
   ],
   "source": [
    "df_updated['RISK_RATED_AREA_C'].nunique()"
   ]
  },
  {
   "cell_type": "code",
   "execution_count": 16,
   "metadata": {},
   "outputs": [
    {
     "data": {
      "text/plain": [
       "<AxesSubplot:>"
      ]
     },
     "execution_count": 16,
     "metadata": {},
     "output_type": "execute_result"
    },
    {
     "data": {
      "image/png": "[encoded data removed]",
      "text/plain": [
       "<Figure size 432x288 with 1 Axes>"
      ]
     },
     "metadata": {
      "needs_background": "light"
     },
     "output_type": "display_data"
    }
   ],
   "source": [
    "df_updated['RISK_RATED_AREA_C'].hist()"
   ]
  },
  {
   "cell_type": "markdown",
   "metadata": {},
   "source": [
    "Do we impute missing values? Will return to this in the model-training phase. "
   ]
  },
  {
   "cell_type": "code",
   "execution_count": 17,
   "metadata": {},
   "outputs": [
    {
     "data": {
      "text/plain": [
       "Index(['COVER_START', 'CLAIM3YEARS', 'P1_EMP_STATUS', 'BUS_USE',\n",
       "       'AD_BUILDINGS', 'SUM_INSURED_BUILDINGS', 'NCD_GRANTED_YEARS_B',\n",
       "       'AD_CONTENTS', 'RISK_RATED_AREA_C', 'SUM_INSURED_CONTENTS',\n",
       "       'NCD_GRANTED_YEARS_C', 'CONTENTS_COVER', 'BUILDINGS_COVER',\n",
       "       'SPEC_SUM_INSURED', 'SPEC_ITEM_PREM', 'UNSPEC_HRP_PREM', 'P1_DOB',\n",
       "       'P1_MAR_STATUS', 'P1_POLICY_REFUSED', 'P1_SEX', 'APPR_ALARM',\n",
       "       'APPR_LOCKS', 'BEDROOMS', 'ROOF_CONSTRUCTION', 'WALL_CONSTRUCTION',\n",
       "       'FLOODING', 'LISTED', 'MAX_DAYS_UNOCC', 'NEIGH_WATCH', 'OCC_STATUS',\n",
       "       'OWNERSHIP_TYPE', 'PAYING_GUESTS', 'PROP_TYPE', 'SAFE_INSTALLED',\n",
       "       'SEC_DISC_REQ', 'SUBSIDENCE', 'YEARBUILT', 'PAYMENT_METHOD',\n",
       "       'LEGAL_ADDON_PRE_REN', 'LEGAL_ADDON_POST_REN', 'HOME_EM_ADDON_PRE_REN',\n",
       "       'HOME_EM_ADDON_POST_REN', 'GARDEN_ADDON_PRE_REN',\n",
       "       'GARDEN_ADDON_POST_REN', 'KEYCARE_ADDON_PRE_REN',\n",
       "       'KEYCARE_ADDON_POST_REN', 'HP1_ADDON_PRE_REN', 'HP1_ADDON_POST_REN',\n",
       "       'HP2_ADDON_PRE_REN', 'HP2_ADDON_POST_REN', 'HP3_ADDON_PRE_REN',\n",
       "       'HP3_ADDON_POST_REN', 'MTA_FLAG', 'LAST_ANN_PREM_GROSS', 'i', 'Police',\n",
       "       'is_lapsed'],\n",
       "      dtype='object')"
      ]
     },
     "execution_count": 17,
     "metadata": {},
     "output_type": "execute_result"
    }
   ],
   "source": [
    "df_updated.columns"
   ]
  },
  {
   "cell_type": "markdown",
   "metadata": {},
   "source": [
    "Write out the pre-processed data-set for exploratory data analysis"
   ]
  },
  {
   "cell_type": "code",
   "execution_count": 18,
   "metadata": {},
   "outputs": [],
   "source": [
    "df_updated.set_index('is_lapsed').to_csv(os.getcwd()+\"\\\\data\\\\home_insurance_processed.csv\")"
   ]
  },
  {
   "cell_type": "code",
   "execution_count": null,
   "metadata": {},
   "outputs": [],
   "source": []
  }
 ],
 "metadata": {
  "kernelspec": {
   "display_name": "Python 3",
   "language": "python",
   "name": "python3"
  },
  "language_info": {
   "codemirror_mode": {
    "name": "ipython",
    "version": 3
   },
   "file_extension": ".py",
   "mimetype": "text/x-python",
   "name": "python",
   "nbconvert_exporter": "python",
   "pygments_lexer": "ipython3",
   "version": "3.8.5"
  }
 },
 "nbformat": 4,
 "nbformat_minor": 4
}
